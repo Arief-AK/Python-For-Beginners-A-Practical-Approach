{
 "cells": [
  {
   "cell_type": "markdown",
   "metadata": {},
   "source": [
    "# IF Conditions and Logic\n",
    "Learn how to make decisions in your programs!\n",
    "\n",
    "This week we continue with Python and try to learn about conditions and logic.\n",
    "\n",
    "## Recap: Basic Calculator\n",
    "In the previous week, we made the basic calculator."
   ]
  },
  {
   "cell_type": "code",
   "execution_count": null,
   "metadata": {},
   "outputs": [],
   "source": [
    "# Basic calculator\n",
    "\n",
    "# Prepare variables\n",
    "number_1 = 0.0\n",
    "number_2 = 0.0\n",
    "choice = 0\n",
    "answer = 0.0\n",
    "\n",
    "# Ask user for numbers\n",
    "number_1 = input(\"Enter a number:\")\n",
    "number_2 = input(\"Enter another number:\")\n",
    "\n",
    "# Print calculator options\n",
    "print(\"\\nWhat would you like to do?\")\n",
    "print(\"1. Add\")\n",
    "print(\"2. Subtract\")\n",
    "print(\"3. Mulltiply\")\n",
    "print(\"4. Division\")\n",
    "\n",
    "# Ask user for calculator options\n",
    "choice = input(\"choice:\")\n",
    "\n",
    "# Check the choice and perform calculation\n",
    "if choice == 1:\n",
    "    answer = number_1 + number_2\n",
    "\n",
    "elif choice == 2:\n",
    "    answer = number_1 - number_2\n",
    "\n",
    "elif choice == 3:\n",
    "    answer = number_1 * number_2\n",
    "\n",
    "elif choice == 4:\n",
    "    answer = number_1 / number_2\n",
    "\n",
    "else:\n",
    "    print(\"Wrong choice!\")\n",
    "\n",
    "#  Print the answer\n",
    "print(answer)"
   ]
  },
  {
   "cell_type": "markdown",
   "metadata": {},
   "source": [
    "## Condition statements\n",
    "In Python we can use **condition statements** to make decisions in our programs.\n",
    "\n",
    "## What are conditions statements?\n",
    "Conditions statements tells a the computer \"to do a `decision` when `condition` happens\".\n",
    "\n",
    "### Examples of conditions\n",
    "1. `If` raining\n",
    "2. `If` phone battery is lower than `50%`\n",
    "3. `If` you live in the Netherlands `or` France\n",
    "4. `If` you are a student `and` you are less than `18`\n",
    "\n",
    "#### Examples of decisions\n",
    "1. `If` something happens ... `then` use an umbrella\n",
    "2. `If` something happens ... `then` charge your phone\n",
    "3. `If` something happens ... `then` speak Dutch or French\n",
    "4. `If` something happens ... `then` you are still in school; `else` you are an adult!\n",
    "\n",
    "### Conditional statements\n",
    "1. `If` raining, `then` use an umbrella; `else`, enjoy the sun!\n",
    "2. `If` phone battery is lower than 50%, `then` charge phone battery; `else`, enjoy your phone!\n",
    "3. `If` you live in the Netherlands `or` France, `then` you are in Europe; `else` we don't know where you are!\n",
    "4. `If` you are a student `and` you are less than `18`, `then` you are still in school; `else` you are an adult!\n",
    "\n",
    "## What is decision-making in programming?\n",
    "Programs often need to make decisions based on conditions.\n",
    "\n",
    "## Conditional statements in Python\n",
    "Python uses conditional statements with keywords such as `if`, `elif`, and `else`.\n",
    "\n",
    "### Using `if`"
   ]
  },
  {
   "cell_type": "code",
   "execution_count": 1,
   "metadata": {},
   "outputs": [
    {
     "name": "stdout",
     "output_type": "stream",
     "text": [
      "condition is False\n"
     ]
    }
   ],
   "source": [
    "# Using condition statements in Python\n",
    "\n",
    "# Using `if`\n",
    "condition = False\n",
    "\n",
    "if condition == False:\n",
    "    print(f\"condition is False\")\n",
    "else:\n",
    "    print(f\"Condition is True\")"
   ]
  },
  {
   "cell_type": "markdown",
   "metadata": {},
   "source": [
    "### Using `if` and `else`\n",
    "Moving up one level, we can use the `else` keyword to make more decisions!\n",
    "\n",
    "Lets explore this by telling the computer to find out if you are an `adult` or a `young man`."
   ]
  },
  {
   "cell_type": "code",
   "execution_count": null,
   "metadata": {},
   "outputs": [],
   "source": [
    "# Prepare variables\n",
    "name = \"\"\n",
    "age = 0\n",
    "\n",
    "# Ask user for name and age\n",
    "name = input(\"What is your name:\")\n",
    "age = input(\"How old are you:\")\n",
    "\n",
    "# Using `if` and `elif`\n",
    "if age < 18:\n",
    "    print(f\"{name} is a young man\")\n",
    "else:\n",
    "    print(f\"{name} is an adult\")"
   ]
  },
  {
   "cell_type": "markdown",
   "metadata": {},
   "source": [
    "### Using `if`, `elif`, and `else`\n",
    "Moving onto another level, we can add the `elif` keyword to even make more decisions!\n",
    "\n",
    "Lets explore this by telling the computer to find out if you are an `adult`, `young man` or a `child`."
   ]
  },
  {
   "cell_type": "code",
   "execution_count": null,
   "metadata": {},
   "outputs": [],
   "source": [
    "# Prepare variables\n",
    "name = \"\"\n",
    "age = 0\n",
    "\n",
    "# Ask user for name and age\n",
    "name = input(\"What is your name:\")\n",
    "age = input(\"How old are you:\")\n",
    "\n",
    "# Using `if`, `elif` and `else`\n",
    "if age < 10:\n",
    "    print(f\"{name} is a child\")\n",
    "elif age < 18:\n",
    "    print(f\"{name} is an young man\")\n",
    "else:\n",
    "    print(f\"{name} is an adult\")"
   ]
  },
  {
   "cell_type": "markdown",
   "metadata": {},
   "source": [
    "## Checkpoint: Now lets look at our basic calculator again.\n",
    "Let's take another look at our basic calculator. Does it make more sense now?\n",
    "\n",
    "This is your time to ask your questions ;)"
   ]
  },
  {
   "cell_type": "markdown",
   "metadata": {},
   "source": []
  }
 ],
 "metadata": {
  "kernelspec": {
   "display_name": "Python 3",
   "language": "python",
   "name": "python3"
  },
  "language_info": {
   "codemirror_mode": {
    "name": "ipython",
    "version": 3
   },
   "file_extension": ".py",
   "mimetype": "text/x-python",
   "name": "python",
   "nbconvert_exporter": "python",
   "pygments_lexer": "ipython3",
   "version": "3.12.7"
  }
 },
 "nbformat": 4,
 "nbformat_minor": 2
}
