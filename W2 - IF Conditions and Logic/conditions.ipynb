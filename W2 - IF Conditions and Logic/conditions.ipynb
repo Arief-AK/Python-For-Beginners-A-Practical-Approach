{
 "cells": [
  {
   "cell_type": "markdown",
   "metadata": {},
   "source": [
    "# IF Conditions and Logic\n",
    "Learn how to make decisions in your programs!\n",
    "\n",
    "## What are conditions?\n",
    "TBA\n",
    "\n",
    "### Examples of conditions\n",
    "TBA\n",
    "\n",
    "#### Examples of decisions\n",
    "TBA\n",
    "\n",
    "### Conditional statements\n",
    "1. `If` raining, `then` use an umbrella; `else`, enjoy the sun!\n",
    "2. `If` phone battery is lower than 50%, `then` charge phone battery; `else`, enjoy your phone!\n",
    "3. `If` you live in the Netherlands `or` France, `then` you are in Europe; `else` we don't know where you are!\n",
    "4. `If` you are a student `and` you are less than `18`, `then` you are still in school; `else` you are an adult!\n",
    "\n",
    "## What is decision-making in programming?\n",
    "Programs often need to make decisions based on conditions.\n",
    "\n",
    "## Conditional statements in Python\n",
    "Python uses conditional statements like `if`, `elif`, and `else`."
   ]
  },
  {
   "cell_type": "code",
   "execution_count": 1,
   "metadata": {},
   "outputs": [
    {
     "name": "stdout",
     "output_type": "stream",
     "text": [
      "condition is False\n"
     ]
    }
   ],
   "source": [
    "# Conditions in Python\n",
    "condition = False\n",
    "\n",
    "if condition == False:\n",
    "    print(f\"condition is False\")\n",
    "else:\n",
    "    print(f\"Condition is True\")"
   ]
  }
 ],
 "metadata": {
  "kernelspec": {
   "display_name": "Python 3",
   "language": "python",
   "name": "python3"
  },
  "language_info": {
   "codemirror_mode": {
    "name": "ipython",
    "version": 3
   },
   "file_extension": ".py",
   "mimetype": "text/x-python",
   "name": "python",
   "nbconvert_exporter": "python",
   "pygments_lexer": "ipython3",
   "version": "3.12.7"
  }
 },
 "nbformat": 4,
 "nbformat_minor": 2
}
